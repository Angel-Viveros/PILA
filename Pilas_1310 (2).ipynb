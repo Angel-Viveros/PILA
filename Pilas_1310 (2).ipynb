{
  "nbformat": 4,
  "nbformat_minor": 0,
  "metadata": {
    "colab": {
      "name": "Pilas_1310.ipynb",
      "provenance": []
    },
    "kernelspec": {
      "name": "python3",
      "display_name": "Python 3"
    },
    "language_info": {
      "name": "python"
    }
  },
  "cells": [
    {
      "cell_type": "code",
      "metadata": {
        "id": "mZoBhA_iMwHs"
      },
      "source": [
        "class StackADT:\n",
        "    def __init__( self ):\n",
        "        self.__data = list()\n",
        "\n",
        "        #regresa true si la pila esta vacía \n",
        "\n",
        "    def is_empty(self):\n",
        "        return len(self.__data) == 0\n",
        "\n",
        "    def get_length(self):\n",
        "        return len(self.__data)\n",
        "\n",
        "    def pop(self):\n",
        "        if self.is_empty():\n",
        "            print(\"Pila vacía nada que sacar\")\n",
        "        else:\n",
        "            return self.__data.pop()\n",
        "\n",
        "    def peek(self):\n",
        "        if self.is_empty():\n",
        "            print(\"Pila vacia,nada que SACAR\") #caundo falta el primer parentesis\n",
        "        else:\n",
        "            return self.__data[ -1 ]\n",
        "\n",
        "    def push(self , value ):\n",
        "        self.__data.append(value)\n",
        "\n",
        "    def to_string(self):\n",
        "        for item in self.__data[::-1]:\n",
        "            print(f\"| { item } | \")\n",
        "\n",
        "\n",
        "         "
      ],
      "execution_count": 71,
      "outputs": []
    },
    {
      "cell_type": "code",
      "metadata": {
        "colab": {
          "base_uri": "https://localhost:8080/"
        },
        "id": "0g4tX8kSQdOI",
        "outputId": "a5f8c237-6da9-48bb-e6eb-362cbfe866f6"
      },
      "source": [
        "pila = StackADT()\n",
        "print(\"¿Esta vacía? = \" , pila.is_empty() )\n",
        "print(\"# Elementos: \" , pila.get_length() )\n",
        "pila.push(10)\n",
        "print(\"¿Esta vacía? = \" , pila.is_empty() )\n",
        "print(\"# Elementos: \" , pila.get_length() )\n",
        "pila.push(20)\n",
        "pila.push(30)\n",
        "pila.push(40)\n",
        "pila.to_string()\n",
        "print(pila.pop())\n",
        "print(pila.peek())\n",
        "pila.to_string()"
      ],
      "execution_count": 95,
      "outputs": [
        {
          "output_type": "stream",
          "name": "stdout",
          "text": [
            "¿Esta vacía? =  True\n",
            "# Elementos:  0\n",
            "¿Esta vacía? =  False\n",
            "# Elementos:  1\n",
            "| 40 | \n",
            "| 30 | \n",
            "| 20 | \n",
            "| 10 | \n",
            "40\n",
            "30\n",
            "| 30 | \n",
            "| 20 | \n",
            "| 10 | \n"
          ]
        }
      ]
    },
    {
      "cell_type": "code",
      "metadata": {
        "colab": {
          "base_uri": "https://localhost:8080/"
        },
        "id": "V84yNffHzMny",
        "outputId": "f8807d58-d1ab-463b-d893-84f780ae623e"
      },
      "source": [
        "!cat prog.txt"
      ],
      "execution_count": 119,
      "outputs": [
        {
          "output_type": "stream",
          "name": "stdout",
          "text": [
            "#include <stdio.h>\r\n",
            "int main()\r\n",
            "{\r\n",
            "    int num, count, sum = 0;\r\n",
            "\r\n",
            "    printf(\"Enter a positive integer: \");\r\n",
            "    scanf(\"%d\", &num);\r\n",
            "\r\n",
            "    // for loop terminates when num is less than count\r\n",
            "    for(count = 1; count <= num; ++count)\r\n",
            "    {\r\n",
            "        sum += count;\r\n",
            "    }\r\n",
            "\r\n",
            "    printf(\"Sum = %d\", sum);\r\n",
            "\r\n",
            "    return 0;\r\n",
            "}{\r\n"
          ]
        }
      ]
    },
    {
      "cell_type": "code",
      "metadata": {
        "colab": {
          "base_uri": "https://localhost:8080/"
        },
        "id": "jfPTnHRAz1PY",
        "outputId": "9e86cb52-85f2-4b03-b1de-eeedcd12ee90"
      },
      "source": [
        "entrada = open(\"prog.txt\")\n",
        "codigo = entrada.read()\n",
        "#print(codigo)\n",
        "pilaControl = StackADT() \n",
        "pilaControl.push(\"#\") #caracter de pila vacio\n",
        "#letra = {'{':'}','(':')'}\n",
        "\n",
        "for letra in codigo:\n",
        "    if letra == '{':\n",
        "        pilaControl.push(\"{\")\n",
        "    elif letra == '}':\n",
        "        basura = pilaControl.pop()\n",
        "    else:\n",
        "        pass\n",
        "\n",
        "for letra in codigo:\n",
        "    if letra == '(':\n",
        "        pilaControl.push(\"(\")\n",
        "    elif letra == ')':\n",
        "        basura = pilaControl.pop()\n",
        "    else:\n",
        "        pass\n",
        "\n",
        "    \"\"\"pop() 🡨 Saca el elemento del tope y lo regresa. El puntero al tope se mueve al anterior elemento.\n",
        "        push( value ) 🡨 Agrega un elemento al tope de la estructura.\n",
        "        peek() 🡨 Consulta el elemento en el tope, sin sacarlo.\"\"\"\n",
        "\n",
        "\n",
        "\n",
        "\n",
        "if pilaControl.peek() == '#':\n",
        "    print(\"El codigo proporcionado esta correctamente desproporcionado en llaves{} y paréntesis()\")\n",
        "else:\n",
        "    print(\"El codigo no esta balanceado en llaves{} y/o en parentesis( 0 )\")\n"
      ],
      "execution_count": 120,
      "outputs": [
        {
          "output_type": "stream",
          "name": "stdout",
          "text": [
            "El codigo no esta balanceado en llaves{} y/o en parentesis( 0 )\n"
          ]
        }
      ]
    }
  ]
}